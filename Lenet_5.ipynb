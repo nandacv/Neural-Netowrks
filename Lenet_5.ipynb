{
  "nbformat": 4,
  "nbformat_minor": 0,
  "metadata": {
    "colab": {
      "name": "Lenet-5.ipynb",
      "provenance": []
    },
    "kernelspec": {
      "name": "python3",
      "display_name": "Python 3"
    },
    "language_info": {
      "name": "python"
    },
    "accelerator": "GPU"
  },
  "cells": [
    {
      "cell_type": "code",
      "metadata": {
        "id": "2kKri2mnBLjm"
      },
      "source": [
        "from keras.datasets import mnist\n",
        "import tensorflow as tf\n",
        "import keras\n",
        "from keras import Sequential\n",
        "from keras.layers import Conv2D, Flatten, AveragePooling2D,Dense\n",
        "from keras.optimizers import SGD\n",
        "import matplotlib.pyplot as plt\n",
        "import numpy as np"
      ],
      "execution_count": 21,
      "outputs": []
    },
    {
      "cell_type": "code",
      "metadata": {
        "colab": {
          "base_uri": "https://localhost:8080/"
        },
        "id": "cqH3qD6lCLFX",
        "outputId": "a79669cd-38c3-4d9a-e76a-e574368f16ba"
      },
      "source": [
        "(train_x,train_y),(test_x,test_y) = mnist.load_data()\n",
        "print(train_x.shape)\n",
        "print(test_x.shape)"
      ],
      "execution_count": 2,
      "outputs": [
        {
          "output_type": "stream",
          "text": [
            "Downloading data from https://storage.googleapis.com/tensorflow/tf-keras-datasets/mnist.npz\n",
            "11493376/11490434 [==============================] - 0s 0us/step\n",
            "(60000, 28, 28)\n",
            "(10000, 28, 28)\n"
          ],
          "name": "stdout"
        }
      ]
    },
    {
      "cell_type": "code",
      "metadata": {
        "colab": {
          "base_uri": "https://localhost:8080/"
        },
        "id": "9wh3z785Czbv",
        "outputId": "2240e744-4ea0-43db-ffbd-dd4c9d55cd6c"
      },
      "source": [
        "train_x = train_x/255.0\n",
        "test_x = test_x/255.0\n",
        "\n",
        "print(train_x.shape)\n",
        "print(test_x.shape)\n",
        "\n",
        "train_x = tf.expand_dims(train_x,3)\n",
        "test_x = tf.expand_dims(test_x,3)\n",
        "\n",
        "print(train_x.shape)\n",
        "print(test_x.shape)\n",
        "\n",
        "val_x = train_x[:5000]\n",
        "val_y = train_y[:5000]"
      ],
      "execution_count": 3,
      "outputs": [
        {
          "output_type": "stream",
          "text": [
            "(60000, 28, 28)\n",
            "(10000, 28, 28)\n",
            "(60000, 28, 28, 1)\n",
            "(10000, 28, 28, 1)\n"
          ],
          "name": "stdout"
        }
      ]
    },
    {
      "cell_type": "code",
      "metadata": {
        "colab": {
          "base_uri": "https://localhost:8080/"
        },
        "id": "9_1qlO0WEL0S",
        "outputId": "97d840a3-1a8b-4e3b-bfb3-3d7662d2965b"
      },
      "source": [
        "# model building \n",
        "\n",
        "model = Sequential()\n",
        "model.add(Conv2D(6,kernel_size = 5, strides=1,activation='tanh',input_shape = train_x[0].shape, padding='valid'))\n",
        "model.add(AveragePooling2D())\n",
        "model.add(Conv2D(16, kernel_size=5, strides=1,activation='tanh',padding='same'))\n",
        "model.add(AveragePooling2D())\n",
        "model.add(Flatten())\n",
        "model.add(Dense(120,activation ='tanh'))\n",
        "model.add(Dense(84,activation='tanh'))\n",
        "model.add(Dense(10,activation='softmax'))\n",
        "\n",
        "\n",
        "model.compile(loss=keras.losses.sparse_categorical_crossentropy, metrics=['accuracy'])\n",
        "\n",
        "model.summary()"
      ],
      "execution_count": 6,
      "outputs": [
        {
          "output_type": "stream",
          "text": [
            "Model: \"sequential_1\"\n",
            "_________________________________________________________________\n",
            "Layer (type)                 Output Shape              Param #   \n",
            "=================================================================\n",
            "conv2d_2 (Conv2D)            (None, 24, 24, 6)         156       \n",
            "_________________________________________________________________\n",
            "average_pooling2d_2 (Average (None, 12, 12, 6)         0         \n",
            "_________________________________________________________________\n",
            "conv2d_3 (Conv2D)            (None, 12, 12, 16)        2416      \n",
            "_________________________________________________________________\n",
            "average_pooling2d_3 (Average (None, 6, 6, 16)          0         \n",
            "_________________________________________________________________\n",
            "flatten_1 (Flatten)          (None, 576)               0         \n",
            "_________________________________________________________________\n",
            "dense_3 (Dense)              (None, 120)               69240     \n",
            "_________________________________________________________________\n",
            "dense_4 (Dense)              (None, 84)                10164     \n",
            "_________________________________________________________________\n",
            "dense_5 (Dense)              (None, 10)                850       \n",
            "=================================================================\n",
            "Total params: 82,826\n",
            "Trainable params: 82,826\n",
            "Non-trainable params: 0\n",
            "_________________________________________________________________\n"
          ],
          "name": "stdout"
        }
      ]
    },
    {
      "cell_type": "code",
      "metadata": {
        "colab": {
          "base_uri": "https://localhost:8080/"
        },
        "id": "HHOlalciGgMk",
        "outputId": "27744055-4979-4ecb-8e35-36391d816040"
      },
      "source": [
        "history = model.fit(train_x,train_y,epochs =20,validation_data =(val_x,val_y))\n",
        "test_loss, test_accuracy = model.evaluate(test_x,test_y)"
      ],
      "execution_count": 8,
      "outputs": [
        {
          "output_type": "stream",
          "text": [
            "Epoch 1/20\n",
            "1875/1875 [==============================] - 6s 3ms/step - loss: 0.0031 - accuracy: 0.9991 - val_loss: 8.7124e-04 - val_accuracy: 0.9996\n",
            "Epoch 2/20\n",
            "1875/1875 [==============================] - 6s 3ms/step - loss: 0.0027 - accuracy: 0.9992 - val_loss: 0.0013 - val_accuracy: 0.9996\n",
            "Epoch 3/20\n",
            "1875/1875 [==============================] - 6s 3ms/step - loss: 0.0023 - accuracy: 0.9993 - val_loss: 0.0010 - val_accuracy: 0.9996\n",
            "Epoch 4/20\n",
            "1875/1875 [==============================] - 6s 3ms/step - loss: 0.0014 - accuracy: 0.9996 - val_loss: 0.0014 - val_accuracy: 0.9994\n",
            "Epoch 5/20\n",
            "1875/1875 [==============================] - 6s 3ms/step - loss: 0.0020 - accuracy: 0.9994 - val_loss: 4.4470e-04 - val_accuracy: 0.9996\n",
            "Epoch 6/20\n",
            "1875/1875 [==============================] - 6s 3ms/step - loss: 0.0016 - accuracy: 0.9995 - val_loss: 4.0059e-04 - val_accuracy: 0.9998\n",
            "Epoch 7/20\n",
            "1875/1875 [==============================] - 6s 3ms/step - loss: 0.0016 - accuracy: 0.9995 - val_loss: 0.0012 - val_accuracy: 0.9996\n",
            "Epoch 8/20\n",
            "1875/1875 [==============================] - 6s 3ms/step - loss: 0.0019 - accuracy: 0.9995 - val_loss: 0.0013 - val_accuracy: 0.9998\n",
            "Epoch 9/20\n",
            "1875/1875 [==============================] - 6s 3ms/step - loss: 0.0015 - accuracy: 0.9996 - val_loss: 0.0062 - val_accuracy: 0.9984\n",
            "Epoch 10/20\n",
            "1875/1875 [==============================] - 6s 3ms/step - loss: 9.3928e-04 - accuracy: 0.9997 - val_loss: 5.5626e-04 - val_accuracy: 0.9998\n",
            "Epoch 11/20\n",
            "1875/1875 [==============================] - 6s 3ms/step - loss: 0.0011 - accuracy: 0.9997 - val_loss: 4.4884e-04 - val_accuracy: 0.9996\n",
            "Epoch 12/20\n",
            "1875/1875 [==============================] - 6s 3ms/step - loss: 0.0016 - accuracy: 0.9996 - val_loss: 3.1115e-04 - val_accuracy: 1.0000\n",
            "Epoch 13/20\n",
            "1875/1875 [==============================] - 6s 3ms/step - loss: 0.0011 - accuracy: 0.9997 - val_loss: 4.6609e-04 - val_accuracy: 0.9998\n",
            "Epoch 14/20\n",
            "1875/1875 [==============================] - 5s 3ms/step - loss: 8.2153e-04 - accuracy: 0.9998 - val_loss: 1.1652e-04 - val_accuracy: 1.0000\n",
            "Epoch 15/20\n",
            "1875/1875 [==============================] - 6s 3ms/step - loss: 0.0013 - accuracy: 0.9997 - val_loss: 9.8067e-05 - val_accuracy: 1.0000\n",
            "Epoch 16/20\n",
            "1875/1875 [==============================] - 6s 3ms/step - loss: 8.0953e-04 - accuracy: 0.9998 - val_loss: 0.0011 - val_accuracy: 0.9996\n",
            "Epoch 17/20\n",
            "1875/1875 [==============================] - 6s 3ms/step - loss: 9.6031e-04 - accuracy: 0.9998 - val_loss: 0.0058 - val_accuracy: 0.9986\n",
            "Epoch 18/20\n",
            "1875/1875 [==============================] - 6s 3ms/step - loss: 8.3211e-04 - accuracy: 0.9998 - val_loss: 1.2285e-05 - val_accuracy: 1.0000\n",
            "Epoch 19/20\n",
            "1875/1875 [==============================] - 6s 3ms/step - loss: 8.3677e-04 - accuracy: 0.9997 - val_loss: 7.7735e-05 - val_accuracy: 1.0000\n",
            "Epoch 20/20\n",
            "1875/1875 [==============================] - 6s 3ms/step - loss: 7.2317e-04 - accuracy: 0.9997 - val_loss: 1.4048e-04 - val_accuracy: 1.0000\n",
            "313/313 [==============================] - 1s 2ms/step - loss: 0.1186 - accuracy: 0.9861\n"
          ],
          "name": "stdout"
        }
      ]
    },
    {
      "cell_type": "code",
      "metadata": {
        "colab": {
          "base_uri": "https://localhost:8080/"
        },
        "id": "1tk8YHVQG-4f",
        "outputId": "20b763e0-a73a-4094-9fbe-e437c1ab8ae8"
      },
      "source": [
        "print(f'Testing accuracy {np.round(test_accuracy,2)}')"
      ],
      "execution_count": 22,
      "outputs": [
        {
          "output_type": "stream",
          "text": [
            "Testing accuracy 0.99\n"
          ],
          "name": "stdout"
        }
      ]
    },
    {
      "cell_type": "code",
      "metadata": {
        "colab": {
          "base_uri": "https://localhost:8080/",
          "height": 545
        },
        "id": "dzj3VYQgLSC_",
        "outputId": "6984214d-b80f-42cb-b4e8-2a03f061c8ec"
      },
      "source": [
        "\n",
        "plt.title('Training loss')\n",
        "plt.plot(history.history['loss'])\n",
        "plt.show()\n",
        "plt.title('Validation loss')\n",
        "plt.plot(history.history['val_loss'])\n",
        "plt.show()"
      ],
      "execution_count": 23,
      "outputs": [
        {
          "output_type": "display_data",
          "data": {
            "image/png": "[encoded data removed]",
            "text/plain": [
              "<Figure size 432x288 with 1 Axes>"
            ]
          },
          "metadata": {
            "tags": [],
            "needs_background": "light"
          }
        },
        {
          "output_type": "display_data",
          "data": {
            "image/png": "[encoded data removed]",
            "text/plain": [
              "<Figure size 432x288 with 1 Axes>"
            ]
          },
          "metadata": {
            "tags": [],
            "needs_background": "light"
          }
        }
      ]
    },
    {
      "cell_type": "code",
      "metadata": {
        "id": "x6VHqFrQLuAc"
      },
      "source": [
        ""
      ],
      "execution_count": null,
      "outputs": []
    }
  ]
}